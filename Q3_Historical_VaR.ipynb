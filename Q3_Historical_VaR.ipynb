{
 "cells": [
  {
   "cell_type": "code",
   "execution_count": 1,
   "id": "708580d5",
   "metadata": {},
   "outputs": [],
   "source": [
    "# Description: This code calculates the Value at Risk (VaR) for a portfolio diversified among 4 stocks in equal weights:\n",
    "# INFY, ITC, TATAMOTORS, HDFCBANK"
   ]
  },
  {
   "cell_type": "code",
   "execution_count": 2,
   "id": "b9905c1a",
   "metadata": {},
   "outputs": [],
   "source": [
    "import numpy as np\n",
    "import pandas as pd\n",
    "import yfinance as yf"
   ]
  },
  {
   "cell_type": "code",
   "execution_count": 3,
   "id": "d8f161ef",
   "metadata": {},
   "outputs": [
    {
     "name": "stdout",
     "output_type": "stream",
     "text": [
      "[*********************100%%**********************]  1 of 1 completed\n",
      "[*********************100%%**********************]  1 of 1 completed\n",
      "[*********************100%%**********************]  1 of 1 completed\n",
      "[*********************100%%**********************]  1 of 1 completed\n"
     ]
    }
   ],
   "source": [
    "stock1 = yf.download('INFY.NS', interval='1d', period='1y')\n",
    "stock2 = yf.download('ITC.NS', interval='1d', period='1y')\n",
    "stock3 = yf.download('TATAMOTORS.NS', interval='1d', period='1y')\n",
    "stock4 = yf.download('HDFCBANK.NS', interval='1d', period='1y')"
   ]
  },
  {
   "cell_type": "code",
   "execution_count": 4,
   "id": "b730de1a",
   "metadata": {},
   "outputs": [],
   "source": [
    "# Adding a % returns column in the data\n",
    "\n",
    "stocks = [stock1, stock2, stock3, stock4]\n",
    "for i in stocks:\n",
    "    i['returns'] = i['Close'].pct_change()"
   ]
  },
  {
   "cell_type": "code",
   "execution_count": 5,
   "id": "17594613",
   "metadata": {},
   "outputs": [],
   "source": [
    "# Compiling returns data in portfolio\n",
    "\n",
    "returns = pd.DataFrame({\n",
    "    'INFY': stock1['returns'],\n",
    "    'ITC': stock2['returns'],\n",
    "    'TATAMOTORS': stock3['returns'],\n",
    "    'HDFCBANK': stock4['returns']\n",
    "}).dropna(axis=0)"
   ]
  },
  {
   "cell_type": "code",
   "execution_count": 6,
   "id": "95c841b7",
   "metadata": {},
   "outputs": [
    {
     "data": {
      "text/html": [
       "<div>\n",
       "<style scoped>\n",
       "    .dataframe tbody tr th:only-of-type {\n",
       "        vertical-align: middle;\n",
       "    }\n",
       "\n",
       "    .dataframe tbody tr th {\n",
       "        vertical-align: top;\n",
       "    }\n",
       "\n",
       "    .dataframe thead th {\n",
       "        text-align: right;\n",
       "    }\n",
       "</style>\n",
       "<table border=\"1\" class=\"dataframe\">\n",
       "  <thead>\n",
       "    <tr style=\"text-align: right;\">\n",
       "      <th></th>\n",
       "      <th>INFY</th>\n",
       "      <th>ITC</th>\n",
       "      <th>TATAMOTORS</th>\n",
       "      <th>HDFCBANK</th>\n",
       "    </tr>\n",
       "    <tr>\n",
       "      <th>Date</th>\n",
       "      <th></th>\n",
       "      <th></th>\n",
       "      <th></th>\n",
       "      <th></th>\n",
       "    </tr>\n",
       "  </thead>\n",
       "  <tbody>\n",
       "    <tr>\n",
       "      <th>2022-09-20</th>\n",
       "      <td>-0.001259</td>\n",
       "      <td>0.001192</td>\n",
       "      <td>0.020684</td>\n",
       "      <td>0.012046</td>\n",
       "    </tr>\n",
       "    <tr>\n",
       "      <th>2022-09-21</th>\n",
       "      <td>-0.008138</td>\n",
       "      <td>0.014732</td>\n",
       "      <td>-0.015199</td>\n",
       "      <td>-0.001545</td>\n",
       "    </tr>\n",
       "    <tr>\n",
       "      <th>2022-09-22</th>\n",
       "      <td>-0.006753</td>\n",
       "      <td>0.012025</td>\n",
       "      <td>0.010640</td>\n",
       "      <td>-0.021306</td>\n",
       "    </tr>\n",
       "    <tr>\n",
       "      <th>2022-09-23</th>\n",
       "      <td>-0.001828</td>\n",
       "      <td>0.003912</td>\n",
       "      <td>-0.021055</td>\n",
       "      <td>-0.026817</td>\n",
       "    </tr>\n",
       "    <tr>\n",
       "      <th>2022-09-26</th>\n",
       "      <td>0.010839</td>\n",
       "      <td>-0.039838</td>\n",
       "      <td>-0.060506</td>\n",
       "      <td>-0.013484</td>\n",
       "    </tr>\n",
       "    <tr>\n",
       "      <th>...</th>\n",
       "      <td>...</td>\n",
       "      <td>...</td>\n",
       "      <td>...</td>\n",
       "      <td>...</td>\n",
       "    </tr>\n",
       "    <tr>\n",
       "      <th>2023-09-12</th>\n",
       "      <td>0.016695</td>\n",
       "      <td>0.008833</td>\n",
       "      <td>-0.022131</td>\n",
       "      <td>0.003125</td>\n",
       "    </tr>\n",
       "    <tr>\n",
       "      <th>2023-09-13</th>\n",
       "      <td>-0.001832</td>\n",
       "      <td>0.005209</td>\n",
       "      <td>0.008215</td>\n",
       "      <td>0.004276</td>\n",
       "    </tr>\n",
       "    <tr>\n",
       "      <th>2023-09-14</th>\n",
       "      <td>0.005740</td>\n",
       "      <td>-0.007828</td>\n",
       "      <td>-0.002077</td>\n",
       "      <td>-0.000608</td>\n",
       "    </tr>\n",
       "    <tr>\n",
       "      <th>2023-09-15</th>\n",
       "      <td>0.003086</td>\n",
       "      <td>-0.003556</td>\n",
       "      <td>0.015450</td>\n",
       "      <td>0.011474</td>\n",
       "    </tr>\n",
       "    <tr>\n",
       "      <th>2023-09-18</th>\n",
       "      <td>-0.013099</td>\n",
       "      <td>0.008252</td>\n",
       "      <td>0.010091</td>\n",
       "      <td>-0.019678</td>\n",
       "    </tr>\n",
       "  </tbody>\n",
       "</table>\n",
       "<p>248 rows × 4 columns</p>\n",
       "</div>"
      ],
      "text/plain": [
       "                INFY       ITC  TATAMOTORS  HDFCBANK\n",
       "Date                                                \n",
       "2022-09-20 -0.001259  0.001192    0.020684  0.012046\n",
       "2022-09-21 -0.008138  0.014732   -0.015199 -0.001545\n",
       "2022-09-22 -0.006753  0.012025    0.010640 -0.021306\n",
       "2022-09-23 -0.001828  0.003912   -0.021055 -0.026817\n",
       "2022-09-26  0.010839 -0.039838   -0.060506 -0.013484\n",
       "...              ...       ...         ...       ...\n",
       "2023-09-12  0.016695  0.008833   -0.022131  0.003125\n",
       "2023-09-13 -0.001832  0.005209    0.008215  0.004276\n",
       "2023-09-14  0.005740 -0.007828   -0.002077 -0.000608\n",
       "2023-09-15  0.003086 -0.003556    0.015450  0.011474\n",
       "2023-09-18 -0.013099  0.008252    0.010091 -0.019678\n",
       "\n",
       "[248 rows x 4 columns]"
      ]
     },
     "execution_count": 6,
     "metadata": {},
     "output_type": "execute_result"
    }
   ],
   "source": [
    "returns"
   ]
  },
  {
   "cell_type": "code",
   "execution_count": 7,
   "id": "7d93485b",
   "metadata": {},
   "outputs": [],
   "source": [
    "# Calculating portfolio returns\n",
    "\n",
    "portfolio_weights = np.array([0.25,0.25,0.25,0.25])\n",
    "portfolio_returns = returns.dot(portfolio_weights)"
   ]
  },
  {
   "cell_type": "code",
   "execution_count": 8,
   "id": "1802e0b4",
   "metadata": {},
   "outputs": [
    {
     "data": {
      "text/plain": [
       "Date\n",
       "2022-09-20    0.008166\n",
       "2022-09-21   -0.002537\n",
       "2022-09-22   -0.001348\n",
       "2022-09-23   -0.011447\n",
       "2022-09-26   -0.025747\n",
       "                ...   \n",
       "2023-09-12    0.001631\n",
       "2023-09-13    0.003967\n",
       "2023-09-14   -0.001193\n",
       "2023-09-15    0.006613\n",
       "2023-09-18   -0.003608\n",
       "Length: 248, dtype: float64"
      ]
     },
     "execution_count": 8,
     "metadata": {},
     "output_type": "execute_result"
    }
   ],
   "source": [
    "portfolio_returns"
   ]
  },
  {
   "cell_type": "code",
   "execution_count": 9,
   "id": "c0aefe80",
   "metadata": {},
   "outputs": [],
   "source": [
    "# Calculating historical var for a confidence_level of 95%\n",
    "\n",
    "confidence_level = 0.95\n",
    "historical_var = np.percentile(portfolio_returns, confidence_level * 100)"
   ]
  },
  {
   "cell_type": "code",
   "execution_count": 10,
   "id": "b870f15b",
   "metadata": {},
   "outputs": [
    {
     "data": {
      "text/plain": [
       "1.431734262584339"
      ]
     },
     "execution_count": 10,
     "metadata": {},
     "output_type": "execute_result"
    }
   ],
   "source": [
    "historical_var * 100"
   ]
  }
 ],
 "metadata": {
  "kernelspec": {
   "display_name": "Python 3 (ipykernel)",
   "language": "python",
   "name": "python3"
  },
  "language_info": {
   "codemirror_mode": {
    "name": "ipython",
    "version": 3
   },
   "file_extension": ".py",
   "mimetype": "text/x-python",
   "name": "python",
   "nbconvert_exporter": "python",
   "pygments_lexer": "ipython3",
   "version": "3.11.3"
  }
 },
 "nbformat": 4,
 "nbformat_minor": 5
}
