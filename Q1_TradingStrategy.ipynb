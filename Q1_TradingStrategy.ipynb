{
 "cells": [
  {
   "cell_type": "code",
   "execution_count": 1,
   "id": "2b1551f2",
   "metadata": {},
   "outputs": [],
   "source": [
    "# Description: This strategy is based on technical indicator 'Moving Average Convergence Divergence (MACD)'\n",
    "# Appliction method: When the MACD line crosses above the signal line, and when MACD is above 0,\n",
    "# the code generates a buy signal and when MACD crosses below, generates a sell signal\n",
    "# NOTE: This code is generalised so as to take any stock of choice. TATAMOTORS(NSE) has been taken as example here."
   ]
  },
  {
   "cell_type": "code",
   "execution_count": 2,
   "id": "e6a38f9a",
   "metadata": {},
   "outputs": [],
   "source": [
    "import yfinance as yf\n",
    "import pandas as pd\n",
    "import numpy as np\n",
    "import matplotlib.pyplot as plt"
   ]
  },
  {
   "cell_type": "code",
   "execution_count": 3,
   "id": "15a88b10",
   "metadata": {},
   "outputs": [
    {
     "name": "stdout",
     "output_type": "stream",
     "text": [
      "[*********************100%%**********************]  1 of 1 completed\n"
     ]
    },
    {
     "data": {
      "text/html": [
       "<div>\n",
       "<style scoped>\n",
       "    .dataframe tbody tr th:only-of-type {\n",
       "        vertical-align: middle;\n",
       "    }\n",
       "\n",
       "    .dataframe tbody tr th {\n",
       "        vertical-align: top;\n",
       "    }\n",
       "\n",
       "    .dataframe thead th {\n",
       "        text-align: right;\n",
       "    }\n",
       "</style>\n",
       "<table border=\"1\" class=\"dataframe\">\n",
       "  <thead>\n",
       "    <tr style=\"text-align: right;\">\n",
       "      <th></th>\n",
       "      <th>Date</th>\n",
       "      <th>Open</th>\n",
       "      <th>High</th>\n",
       "      <th>Low</th>\n",
       "      <th>Close</th>\n",
       "      <th>Adj Close</th>\n",
       "      <th>Volume</th>\n",
       "    </tr>\n",
       "  </thead>\n",
       "  <tbody>\n",
       "    <tr>\n",
       "      <th>0</th>\n",
       "      <td>2018-09-17</td>\n",
       "      <td>263.350006</td>\n",
       "      <td>264.100006</td>\n",
       "      <td>259.649994</td>\n",
       "      <td>260.250000</td>\n",
       "      <td>259.441406</td>\n",
       "      <td>9461420</td>\n",
       "    </tr>\n",
       "    <tr>\n",
       "      <th>1</th>\n",
       "      <td>2018-09-18</td>\n",
       "      <td>257.750000</td>\n",
       "      <td>259.799988</td>\n",
       "      <td>250.600006</td>\n",
       "      <td>251.500000</td>\n",
       "      <td>250.718582</td>\n",
       "      <td>11554420</td>\n",
       "    </tr>\n",
       "    <tr>\n",
       "      <th>2</th>\n",
       "      <td>2018-09-19</td>\n",
       "      <td>253.550003</td>\n",
       "      <td>255.000000</td>\n",
       "      <td>251.000000</td>\n",
       "      <td>252.600006</td>\n",
       "      <td>251.815170</td>\n",
       "      <td>7845650</td>\n",
       "    </tr>\n",
       "    <tr>\n",
       "      <th>3</th>\n",
       "      <td>2018-09-21</td>\n",
       "      <td>255.050003</td>\n",
       "      <td>257.700012</td>\n",
       "      <td>228.850006</td>\n",
       "      <td>250.350006</td>\n",
       "      <td>249.572159</td>\n",
       "      <td>18547453</td>\n",
       "    </tr>\n",
       "    <tr>\n",
       "      <th>4</th>\n",
       "      <td>2018-09-24</td>\n",
       "      <td>250.199997</td>\n",
       "      <td>251.000000</td>\n",
       "      <td>239.350006</td>\n",
       "      <td>240.199997</td>\n",
       "      <td>239.453690</td>\n",
       "      <td>8889259</td>\n",
       "    </tr>\n",
       "    <tr>\n",
       "      <th>...</th>\n",
       "      <td>...</td>\n",
       "      <td>...</td>\n",
       "      <td>...</td>\n",
       "      <td>...</td>\n",
       "      <td>...</td>\n",
       "      <td>...</td>\n",
       "      <td>...</td>\n",
       "    </tr>\n",
       "    <tr>\n",
       "      <th>1231</th>\n",
       "      <td>2023-09-11</td>\n",
       "      <td>634.650024</td>\n",
       "      <td>635.400024</td>\n",
       "      <td>630.500000</td>\n",
       "      <td>634.849976</td>\n",
       "      <td>634.849976</td>\n",
       "      <td>8780510</td>\n",
       "    </tr>\n",
       "    <tr>\n",
       "      <th>1232</th>\n",
       "      <td>2023-09-12</td>\n",
       "      <td>638.000000</td>\n",
       "      <td>639.000000</td>\n",
       "      <td>615.250000</td>\n",
       "      <td>620.799988</td>\n",
       "      <td>620.799988</td>\n",
       "      <td>12541377</td>\n",
       "    </tr>\n",
       "    <tr>\n",
       "      <th>1233</th>\n",
       "      <td>2023-09-13</td>\n",
       "      <td>621.000000</td>\n",
       "      <td>628.500000</td>\n",
       "      <td>619.549988</td>\n",
       "      <td>625.900024</td>\n",
       "      <td>625.900024</td>\n",
       "      <td>6988358</td>\n",
       "    </tr>\n",
       "    <tr>\n",
       "      <th>1234</th>\n",
       "      <td>2023-09-14</td>\n",
       "      <td>628.099976</td>\n",
       "      <td>630.799988</td>\n",
       "      <td>623.299988</td>\n",
       "      <td>624.599976</td>\n",
       "      <td>624.599976</td>\n",
       "      <td>5722295</td>\n",
       "    </tr>\n",
       "    <tr>\n",
       "      <th>1235</th>\n",
       "      <td>2023-09-15</td>\n",
       "      <td>628.700012</td>\n",
       "      <td>636.500000</td>\n",
       "      <td>627.150024</td>\n",
       "      <td>634.250000</td>\n",
       "      <td>634.250000</td>\n",
       "      <td>18917805</td>\n",
       "    </tr>\n",
       "  </tbody>\n",
       "</table>\n",
       "<p>1236 rows × 7 columns</p>\n",
       "</div>"
      ],
      "text/plain": [
       "           Date        Open        High         Low       Close   Adj Close  \\\n",
       "0    2018-09-17  263.350006  264.100006  259.649994  260.250000  259.441406   \n",
       "1    2018-09-18  257.750000  259.799988  250.600006  251.500000  250.718582   \n",
       "2    2018-09-19  253.550003  255.000000  251.000000  252.600006  251.815170   \n",
       "3    2018-09-21  255.050003  257.700012  228.850006  250.350006  249.572159   \n",
       "4    2018-09-24  250.199997  251.000000  239.350006  240.199997  239.453690   \n",
       "...         ...         ...         ...         ...         ...         ...   \n",
       "1231 2023-09-11  634.650024  635.400024  630.500000  634.849976  634.849976   \n",
       "1232 2023-09-12  638.000000  639.000000  615.250000  620.799988  620.799988   \n",
       "1233 2023-09-13  621.000000  628.500000  619.549988  625.900024  625.900024   \n",
       "1234 2023-09-14  628.099976  630.799988  623.299988  624.599976  624.599976   \n",
       "1235 2023-09-15  628.700012  636.500000  627.150024  634.250000  634.250000   \n",
       "\n",
       "        Volume  \n",
       "0      9461420  \n",
       "1     11554420  \n",
       "2      7845650  \n",
       "3     18547453  \n",
       "4      8889259  \n",
       "...        ...  \n",
       "1231   8780510  \n",
       "1232  12541377  \n",
       "1233   6988358  \n",
       "1234   5722295  \n",
       "1235  18917805  \n",
       "\n",
       "[1236 rows x 7 columns]"
      ]
     },
     "execution_count": 3,
     "metadata": {},
     "output_type": "execute_result"
    }
   ],
   "source": [
    "df = yf.download('TATAMOTORS.NS', interval='1d', period='5y')\n",
    "df.reset_index(inplace=True)\n",
    "df"
   ]
  },
  {
   "cell_type": "code",
   "execution_count": 4,
   "id": "9b4e76f0",
   "metadata": {},
   "outputs": [
    {
     "data": {
      "image/png": "[encoded data removed]",
      "text/plain": [
       "<Figure size 1440x432 with 1 Axes>"
      ]
     },
     "metadata": {
      "needs_background": "light"
     },
     "output_type": "display_data"
    }
   ],
   "source": [
    "# Plotting price chart for the stock\n",
    "\n",
    "plt.figure(figsize=(20,6))\n",
    "plt.plot(df['Date'], df['Close'])\n",
    "plt.xlabel('Date')\n",
    "plt.ylabel('Closing_Price')\n",
    "plt.title('Stock Price Chart')\n",
    "plt.grid(True)"
   ]
  },
  {
   "cell_type": "code",
   "execution_count": 5,
   "id": "f4d1d188",
   "metadata": {},
   "outputs": [],
   "source": [
    "# Constructing the MACD indicator \n",
    "\n",
    "df['12EMA'] = df['Close'].ewm(span=12, adjust=False).mean()\n",
    "df['26EMA'] = df['Close'].ewm(span=26, adjust=False).mean()\n",
    "df['MACD'] = df['12EMA'] - df['26EMA']\n",
    "df['Signal'] = df['MACD'].ewm(span=9, adjust=False).mean()\n"
   ]
  },
  {
   "cell_type": "code",
   "execution_count": 6,
   "id": "59a85560",
   "metadata": {},
   "outputs": [
    {
     "data": {
      "text/plain": [
       "<matplotlib.legend.Legend at 0x7f7997cc3bb0>"
      ]
     },
     "execution_count": 6,
     "metadata": {},
     "output_type": "execute_result"
    },
    {
     "data": {
      "image/png": "[encoded data removed]",
      "text/plain": [
       "<Figure size 1440x288 with 1 Axes>"
      ]
     },
     "metadata": {
      "needs_background": "light"
     },
     "output_type": "display_data"
    }
   ],
   "source": [
    "# plotting MACD for visualisation\n",
    "\n",
    "plt.figure(figsize=(20,4))\n",
    "plt.plot(df['Date'], df['MACD'], color='blue', label='MACD')\n",
    "plt.plot(df['Date'], df['Signal'], color='orange', label='Signal')\n",
    "plt.ylabel('Value')\n",
    "plt.title('MACD vs time')\n",
    "plt.grid(True)\n",
    "plt.legend()\n"
   ]
  },
  {
   "cell_type": "code",
   "execution_count": 7,
   "id": "d48ff6fc",
   "metadata": {},
   "outputs": [],
   "source": [
    "# Generating buy and sell signals based on the strategy\n",
    "\n",
    "df['Trade'] = np.where((df['MACD'] > df['Signal']) & (df['MACD'] > 0), 1, 0)\n",
    "df['Position'] = df['Trade'].diff()\n",
    "df['Buy'] = np.where(df['Position'] == 1, df['Close'], np.NAN)\n",
    "df['Sell'] = np.where((df['Position'] == -1) | ((df.index == len(df)-1) & (df['Trade'] == 1)), df['Close'], np.NAN)"
   ]
  },
  {
   "cell_type": "code",
   "execution_count": 8,
   "id": "d3081ac8",
   "metadata": {},
   "outputs": [
    {
     "data": {
      "text/html": [
       "<div>\n",
       "<style scoped>\n",
       "    .dataframe tbody tr th:only-of-type {\n",
       "        vertical-align: middle;\n",
       "    }\n",
       "\n",
       "    .dataframe tbody tr th {\n",
       "        vertical-align: top;\n",
       "    }\n",
       "\n",
       "    .dataframe thead th {\n",
       "        text-align: right;\n",
       "    }\n",
       "</style>\n",
       "<table border=\"1\" class=\"dataframe\">\n",
       "  <thead>\n",
       "    <tr style=\"text-align: right;\">\n",
       "      <th></th>\n",
       "      <th>Buy</th>\n",
       "      <th>Sell</th>\n",
       "      <th>Win/Lose</th>\n",
       "    </tr>\n",
       "  </thead>\n",
       "  <tbody>\n",
       "    <tr>\n",
       "      <th>0</th>\n",
       "      <td>183.050003</td>\n",
       "      <td>175.399994</td>\n",
       "      <td>0</td>\n",
       "    </tr>\n",
       "    <tr>\n",
       "      <th>1</th>\n",
       "      <td>182.850006</td>\n",
       "      <td>150.699997</td>\n",
       "      <td>0</td>\n",
       "    </tr>\n",
       "    <tr>\n",
       "      <th>2</th>\n",
       "      <td>177.350006</td>\n",
       "      <td>182.250000</td>\n",
       "      <td>1</td>\n",
       "    </tr>\n",
       "    <tr>\n",
       "      <th>3</th>\n",
       "      <td>202.949997</td>\n",
       "      <td>215.600006</td>\n",
       "      <td>1</td>\n",
       "    </tr>\n",
       "    <tr>\n",
       "      <th>4</th>\n",
       "      <td>127.900002</td>\n",
       "      <td>119.900002</td>\n",
       "      <td>0</td>\n",
       "    </tr>\n",
       "    <tr>\n",
       "      <th>5</th>\n",
       "      <td>139.500000</td>\n",
       "      <td>167.050003</td>\n",
       "      <td>1</td>\n",
       "    </tr>\n",
       "    <tr>\n",
       "      <th>6</th>\n",
       "      <td>176.699997</td>\n",
       "      <td>176.149994</td>\n",
       "      <td>0</td>\n",
       "    </tr>\n",
       "    <tr>\n",
       "      <th>7</th>\n",
       "      <td>183.699997</td>\n",
       "      <td>182.550003</td>\n",
       "      <td>0</td>\n",
       "    </tr>\n",
       "    <tr>\n",
       "      <th>8</th>\n",
       "      <td>192.000000</td>\n",
       "      <td>191.399994</td>\n",
       "      <td>0</td>\n",
       "    </tr>\n",
       "    <tr>\n",
       "      <th>9</th>\n",
       "      <td>87.199997</td>\n",
       "      <td>80.650002</td>\n",
       "      <td>0</td>\n",
       "    </tr>\n",
       "    <tr>\n",
       "      <th>10</th>\n",
       "      <td>84.099998</td>\n",
       "      <td>94.750000</td>\n",
       "      <td>1</td>\n",
       "    </tr>\n",
       "    <tr>\n",
       "      <th>11</th>\n",
       "      <td>109.050003</td>\n",
       "      <td>105.150002</td>\n",
       "      <td>0</td>\n",
       "    </tr>\n",
       "    <tr>\n",
       "      <th>12</th>\n",
       "      <td>113.050003</td>\n",
       "      <td>120.900002</td>\n",
       "      <td>1</td>\n",
       "    </tr>\n",
       "    <tr>\n",
       "      <th>13</th>\n",
       "      <td>137.899994</td>\n",
       "      <td>140.100006</td>\n",
       "      <td>1</td>\n",
       "    </tr>\n",
       "    <tr>\n",
       "      <th>14</th>\n",
       "      <td>140.949997</td>\n",
       "      <td>135.899994</td>\n",
       "      <td>0</td>\n",
       "    </tr>\n",
       "    <tr>\n",
       "      <th>15</th>\n",
       "      <td>137.649994</td>\n",
       "      <td>177.600006</td>\n",
       "      <td>1</td>\n",
       "    </tr>\n",
       "    <tr>\n",
       "      <th>16</th>\n",
       "      <td>191.300003</td>\n",
       "      <td>325.399994</td>\n",
       "      <td>1</td>\n",
       "    </tr>\n",
       "    <tr>\n",
       "      <th>17</th>\n",
       "      <td>315.549988</td>\n",
       "      <td>337.399994</td>\n",
       "      <td>1</td>\n",
       "    </tr>\n",
       "    <tr>\n",
       "      <th>18</th>\n",
       "      <td>306.100006</td>\n",
       "      <td>483.700012</td>\n",
       "      <td>1</td>\n",
       "    </tr>\n",
       "    <tr>\n",
       "      <th>19</th>\n",
       "      <td>497.600006</td>\n",
       "      <td>478.450012</td>\n",
       "      <td>0</td>\n",
       "    </tr>\n",
       "    <tr>\n",
       "      <th>20</th>\n",
       "      <td>449.500000</td>\n",
       "      <td>431.049988</td>\n",
       "      <td>0</td>\n",
       "    </tr>\n",
       "    <tr>\n",
       "      <th>21</th>\n",
       "      <td>442.399994</td>\n",
       "      <td>406.700012</td>\n",
       "      <td>0</td>\n",
       "    </tr>\n",
       "    <tr>\n",
       "      <th>22</th>\n",
       "      <td>441.549988</td>\n",
       "      <td>442.250000</td>\n",
       "      <td>1</td>\n",
       "    </tr>\n",
       "    <tr>\n",
       "      <th>23</th>\n",
       "      <td>479.200012</td>\n",
       "      <td>471.000000</td>\n",
       "      <td>0</td>\n",
       "    </tr>\n",
       "    <tr>\n",
       "      <th>24</th>\n",
       "      <td>425.350006</td>\n",
       "      <td>424.049988</td>\n",
       "      <td>0</td>\n",
       "    </tr>\n",
       "    <tr>\n",
       "      <th>25</th>\n",
       "      <td>433.200012</td>\n",
       "      <td>427.100006</td>\n",
       "      <td>0</td>\n",
       "    </tr>\n",
       "    <tr>\n",
       "      <th>26</th>\n",
       "      <td>415.299988</td>\n",
       "      <td>440.549988</td>\n",
       "      <td>1</td>\n",
       "    </tr>\n",
       "    <tr>\n",
       "      <th>27</th>\n",
       "      <td>461.299988</td>\n",
       "      <td>477.100006</td>\n",
       "      <td>1</td>\n",
       "    </tr>\n",
       "    <tr>\n",
       "      <th>28</th>\n",
       "      <td>500.500000</td>\n",
       "      <td>520.200012</td>\n",
       "      <td>1</td>\n",
       "    </tr>\n",
       "    <tr>\n",
       "      <th>29</th>\n",
       "      <td>546.250000</td>\n",
       "      <td>566.049988</td>\n",
       "      <td>1</td>\n",
       "    </tr>\n",
       "    <tr>\n",
       "      <th>30</th>\n",
       "      <td>583.250000</td>\n",
       "      <td>569.349976</td>\n",
       "      <td>0</td>\n",
       "    </tr>\n",
       "    <tr>\n",
       "      <th>31</th>\n",
       "      <td>600.799988</td>\n",
       "      <td>612.099976</td>\n",
       "      <td>1</td>\n",
       "    </tr>\n",
       "    <tr>\n",
       "      <th>32</th>\n",
       "      <td>643.700012</td>\n",
       "      <td>635.299988</td>\n",
       "      <td>0</td>\n",
       "    </tr>\n",
       "    <tr>\n",
       "      <th>33</th>\n",
       "      <td>627.250000</td>\n",
       "      <td>634.250000</td>\n",
       "      <td>1</td>\n",
       "    </tr>\n",
       "  </tbody>\n",
       "</table>\n",
       "</div>"
      ],
      "text/plain": [
       "           Buy        Sell  Win/Lose\n",
       "0   183.050003  175.399994         0\n",
       "1   182.850006  150.699997         0\n",
       "2   177.350006  182.250000         1\n",
       "3   202.949997  215.600006         1\n",
       "4   127.900002  119.900002         0\n",
       "5   139.500000  167.050003         1\n",
       "6   176.699997  176.149994         0\n",
       "7   183.699997  182.550003         0\n",
       "8   192.000000  191.399994         0\n",
       "9    87.199997   80.650002         0\n",
       "10   84.099998   94.750000         1\n",
       "11  109.050003  105.150002         0\n",
       "12  113.050003  120.900002         1\n",
       "13  137.899994  140.100006         1\n",
       "14  140.949997  135.899994         0\n",
       "15  137.649994  177.600006         1\n",
       "16  191.300003  325.399994         1\n",
       "17  315.549988  337.399994         1\n",
       "18  306.100006  483.700012         1\n",
       "19  497.600006  478.450012         0\n",
       "20  449.500000  431.049988         0\n",
       "21  442.399994  406.700012         0\n",
       "22  441.549988  442.250000         1\n",
       "23  479.200012  471.000000         0\n",
       "24  425.350006  424.049988         0\n",
       "25  433.200012  427.100006         0\n",
       "26  415.299988  440.549988         1\n",
       "27  461.299988  477.100006         1\n",
       "28  500.500000  520.200012         1\n",
       "29  546.250000  566.049988         1\n",
       "30  583.250000  569.349976         0\n",
       "31  600.799988  612.099976         1\n",
       "32  643.700012  635.299988         0\n",
       "33  627.250000  634.250000         1"
      ]
     },
     "execution_count": 8,
     "metadata": {},
     "output_type": "execute_result"
    }
   ],
   "source": [
    "# Trading Data\n",
    "\n",
    "Buy_Trades = df['Buy'].dropna().reset_index(drop=True)\n",
    "Sell_Trades = df['Sell'].dropna().reset_index(drop=True)\n",
    "Trades = pd.DataFrame({'Buy': Buy_Trades, 'Sell': Sell_Trades})\n",
    "Trades['Win/Lose'] = np.where(Trades['Sell'] > Trades['Buy'], 1, 0)\n",
    "Trades"
   ]
  },
  {
   "cell_type": "code",
   "execution_count": 9,
   "id": "5c6f15b7",
   "metadata": {},
   "outputs": [],
   "source": [
    "# Statistics\n",
    "\n",
    "time_frame_yrs = len(df) / 252\n",
    "avg_share_price = np.mean(df['Close'])\n",
    "profit_per_share = np.sum(df['Sell']) - np.sum(df['Buy'])\n",
    "returns = profit_per_share / avg_share_price\n",
    "cagr = (returns + 1) ** (1 / time_frame_yrs) - 1\n",
    "avg_annual_returns = cagr * 100\n",
    "win_percent = (np.sum(Trades['Win/Lose']) / len(Trades))*100\n",
    "lose_percent = 100 - win_percent"
   ]
  },
  {
   "cell_type": "code",
   "execution_count": 10,
   "id": "386bf9a0",
   "metadata": {},
   "outputs": [
    {
     "data": {
      "text/plain": [
       "300.2190132696652"
      ]
     },
     "execution_count": 10,
     "metadata": {},
     "output_type": "execute_result"
    }
   ],
   "source": [
    "avg_share_price"
   ]
  },
  {
   "cell_type": "code",
   "execution_count": 11,
   "id": "aaa7e7e9",
   "metadata": {},
   "outputs": [
    {
     "data": {
      "text/plain": [
       "362.0499572753906"
      ]
     },
     "execution_count": 11,
     "metadata": {},
     "output_type": "execute_result"
    }
   ],
   "source": [
    "profit_per_share"
   ]
  },
  {
   "cell_type": "code",
   "execution_count": 12,
   "id": "6986211f",
   "metadata": {},
   "outputs": [
    {
     "data": {
      "text/plain": [
       "0.17504256011969654"
      ]
     },
     "execution_count": 12,
     "metadata": {},
     "output_type": "execute_result"
    }
   ],
   "source": [
    "cagr"
   ]
  },
  {
   "cell_type": "code",
   "execution_count": 13,
   "id": "466756ac",
   "metadata": {},
   "outputs": [
    {
     "data": {
      "text/plain": [
       "17.504256011969655"
      ]
     },
     "execution_count": 13,
     "metadata": {},
     "output_type": "execute_result"
    }
   ],
   "source": [
    "avg_annual_returns"
   ]
  },
  {
   "cell_type": "code",
   "execution_count": 14,
   "id": "657b13e8",
   "metadata": {},
   "outputs": [
    {
     "data": {
      "text/plain": [
       "50.0"
      ]
     },
     "execution_count": 14,
     "metadata": {},
     "output_type": "execute_result"
    }
   ],
   "source": [
    "win_percent"
   ]
  },
  {
   "cell_type": "code",
   "execution_count": 15,
   "id": "d60e0f5e",
   "metadata": {},
   "outputs": [
    {
     "data": {
      "text/plain": [
       "50.0"
      ]
     },
     "execution_count": 15,
     "metadata": {},
     "output_type": "execute_result"
    }
   ],
   "source": [
    "lose_percent"
   ]
  }
 ],
 "metadata": {
  "kernelspec": {
   "display_name": "Python 3 (ipykernel)",
   "language": "python",
   "name": "python3"
  },
  "language_info": {
   "codemirror_mode": {
    "name": "ipython",
    "version": 3
   },
   "file_extension": ".py",
   "mimetype": "text/x-python",
   "name": "python",
   "nbconvert_exporter": "python",
   "pygments_lexer": "ipython3",
   "version": "3.10.12"
  }
 },
 "nbformat": 4,
 "nbformat_minor": 5
}
